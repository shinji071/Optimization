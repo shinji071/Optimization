{
 "cells": [
  {
   "cell_type": "code",
   "execution_count": 14,
   "metadata": {
    "collapsed": false
   },
   "outputs": [],
   "source": [
    "import pulp\n",
    "import numpy as np\n",
    "#お金の種類\n",
    "money_type = (10000, 5000, 2000, 1000, 500, 100, 50, 10, 5, 1)\n",
    "#商品の金額\n",
    "price = 1204\n",
    "#財布の中身（左から10000の枚数、5000の枚数、...）\n",
    "purse = [1, 1, 1, 1, 0, 4, 0, 4, 1, 3]\n",
    "\n",
    "#最小化の問題を作りましょう...\n",
    "problem = pulp.LpProblem('Change Minimization', pulp.LpMinimize) # 最小化する場合\n",
    "#何円硬貨を何枚使うか変数\n",
    "pay_var = np.array([pulp.LpVariable('pay_var_'+str(i),0,200,'Integer') for i in money_type])\n",
    "#何円硬貨が何枚お釣りとして返ってくるか変数\n",
    "change_var = np.array([pulp.LpVariable('change_var_'+str(i),0,200,'Integer') for i in money_type])"
   ]
  },
  {
   "cell_type": "code",
   "execution_count": 15,
   "metadata": {
    "collapsed": false
   },
   "outputs": [
    {
     "name": "stdout",
     "output_type": "stream",
     "text": [
      "最適な支払方法\n",
      "10000円　0.0枚\n",
      "5000円　0.0枚\n",
      "2000円　0.0枚\n",
      "1000円　1.0枚\n",
      "500円　0.0枚\n",
      "100円　2.0枚\n",
      "50円　0.0枚\n",
      "10円　0.0枚\n",
      "5円　1.0枚\n",
      "1円　0.0枚\n",
      "お釣り枚数\n",
      "10000円　0.0枚\n",
      "5000円　0.0枚\n",
      "2000円　0.0枚\n",
      "1000円　0.0枚\n",
      "500円　0.0枚\n",
      "100円　0.0枚\n",
      "50円　0.0枚\n",
      "10円　0.0枚\n",
      "5円　0.0枚\n",
      "1円　1.0枚\n"
     ]
    }
   ],
   "source": [
    "#目的関数\n",
    "#会計後の財布の中身のお札・硬貨枚数 + 払うお札・硬貨枚数 * 0.01\n",
    "#後ろの項は、10000円払って10000円お釣り返してもらう的な意味不明な結果を避けるため\n",
    "problem += pulp.lpSum(list(purse - pay_var + change_var)) + pulp.lpSum(list(pay_var))*0.01\n",
    "\n",
    "#払ったお金は商品金額より大きくないと駄目よ制約\n",
    "problem += pulp.lpDot(money_type,pay_var) - price >= 0\n",
    "#お釣り金額＝10000*10000枚数+5000*5000枚数+...+1*1枚数じゃなきゃいけないよ制約\n",
    "problem += pulp.lpDot(money_type,change_var)  == pulp.lpDot(money_type,pay_var) - price\n",
    "#財布の中の枚数より多くは支払えないよん制約\n",
    "for i,v in enumerate(purse):\n",
    "    problem += pay_var[i] - purse[i] <= 0\n",
    "status = problem.solve()\n",
    "\n",
    "print(\"最適な支払方法\")\n",
    "for i,v in enumerate(pay_var):\n",
    "    print(\"{}円　{}枚\".format(money_type[i],pay_var[i].value()))\n",
    "print(\"お釣り枚数\")\n",
    "for i,v in enumerate(change_var):\n",
    "    print(\"{}円　{}枚\".format(money_type[i],change_var[i].value()))"
   ]
  },
  {
   "cell_type": "code",
   "execution_count": 204,
   "metadata": {
    "collapsed": false
   },
   "outputs": [
    {
     "data": {
      "text/plain": [
       "1"
      ]
     },
     "execution_count": 204,
     "metadata": {},
     "output_type": "execute_result"
    }
   ],
   "source": [
    "status"
   ]
  },
  {
   "cell_type": "code",
   "execution_count": null,
   "metadata": {
    "collapsed": true
   },
   "outputs": [],
   "source": []
  }
 ],
 "metadata": {
  "kernelspec": {
   "display_name": "Python 3",
   "language": "python",
   "name": "python3"
  },
  "language_info": {
   "codemirror_mode": {
    "name": "ipython",
    "version": 3
   },
   "file_extension": ".py",
   "mimetype": "text/x-python",
   "name": "python",
   "nbconvert_exporter": "python",
   "pygments_lexer": "ipython3",
   "version": "3.4.3"
  }
 },
 "nbformat": 4,
 "nbformat_minor": 0
}
